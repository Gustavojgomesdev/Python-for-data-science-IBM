{
 "cells": [
  {
   "cell_type": "markdown",
   "metadata": {},
   "source": [
    "# Python for data science \n",
    "   \n",
    "   Anotações do curso de Python para Ciência de dados da IBM "
   ]
  },
  {
   "cell_type": "markdown",
   "metadata": {},
   "source": [
    "\n",
    "\n",
    "## Aula 01\n"
   ]
  },
  {
   "cell_type": "code",
   "execution_count": 2,
   "metadata": {
    "scrolled": true
   },
   "outputs": [
    {
     "name": "stdout",
     "output_type": "stream",
     "text": [
      "Hello world!\n",
      "Hello\n",
      "World!\n"
     ]
    }
   ],
   "source": [
    "print(\"Hello world!\") #print\n",
    "#print(\"Hello World!\") #comentado\n",
    "print(\"Hello\\nWorld!\") #quebra de linha"
   ]
  },
  {
   "cell_type": "markdown",
   "metadata": {},
   "source": [
    "## Aula 02 \n"
   ]
  },
  {
   "cell_type": "code",
   "execution_count": 5,
   "metadata": {
    "collapsed": true
   },
   "outputs": [
    {
     "data": {
      "text/plain": [
       "float"
      ]
     },
     "execution_count": 5,
     "metadata": {},
     "output_type": "execute_result"
    }
   ],
   "source": [
    "#Tipo de caracter\n",
    "type (\"Hello world\") #str\n",
    "type (110) #int\n",
    "type (21.213) #float\n"
   ]
  },
  {
   "cell_type": "markdown",
   "metadata": {},
   "source": [
    "## Aula 03"
   ]
  },
  {
   "cell_type": "code",
   "execution_count": 17,
   "metadata": {
    "collapsed": true
   },
   "outputs": [
    {
     "name": "stdout",
     "output_type": "stream",
     "text": [
      "10\n",
      "1400\n"
     ]
    }
   ],
   "source": [
    "#Expressões variáveis \n",
    "n1 = 10 \n",
    "print(n1)\n",
    "n1 = 500 \n",
    "n2 = 900 \n",
    "result = n1 + n2\n",
    "print(result)\n"
   ]
  },
  {
   "cell_type": "markdown",
   "metadata": {},
   "source": [
    "## Aula 04"
   ]
  },
  {
   "cell_type": "code",
   "execution_count": 40,
   "metadata": {
    "collapsed": true
   },
   "outputs": [
    {
     "name": "stdout",
     "output_type": "stream",
     "text": [
      "Gustavo Gomes de Jesus\n"
     ]
    },
    {
     "data": {
      "text/plain": [
       "'Gustavo Gomes, Gustavo Gomes, Gustavo Gomes, Gustavo Gomes, Gustavo Gomes, Gustavo Gomes, Gustavo Gomes, Gustavo Gomes, '"
      ]
     },
     "execution_count": 40,
     "metadata": {},
     "output_type": "execute_result"
    }
   ],
   "source": [
    "#Operações de coluna \n",
    "nome = str(\"GUSTAVO GOMES\") #manipulando strings\n",
    "nome[0:6]\n",
    "numbers = \"0123456\"\n",
    "numbers[::2] #pulando de dois em dois, pegando os números pares\n",
    "len(\"Gustavo Gomes\") #conta a quantidade de letras em uma palavra\n",
    "nome = \"Gustavo Gomes\"\n",
    "juntar = nome + \" de Jesus\" # juntando uma palavra com a outra \n",
    "print(juntar)\n",
    "8* \"Gustavo Gomes, \"\n"
   ]
  },
  {
   "cell_type": "markdown",
   "metadata": {},
   "source": [
    "## Aula 05"
   ]
  },
  {
   "cell_type": "code",
   "execution_count": 46,
   "metadata": {
    "collapsed": true
   },
   "outputs": [
    {
     "name": "stdout",
     "output_type": "stream",
     "text": [
      "(1, 2, 3, 4, 5, 6)\n",
      "('disco', 10, 1.3, 'Gustavo Gomes', 1)\n",
      "(1.2, ('Gustavo', 'Gomes'), 19, 'anos')\n",
      "['Gustavo Gomes', 52.4, 19874, 'Gustavo Gomes', 'anos', 19]\n",
      "['Gustavo Gomes', 52.4, 19874, 'Gustavo Gomes', 'anos', 19, 'idade']\n",
      "['Gustavo Gomes', 52.4, 19874, 'Gustavo Gomes', 'anos', 19, 'idade', 'felicidade', 65]\n",
      "['Gustavo Gomes', 52.4, 19874, 'Gustavo Gomes', 'anos', 19, 'idade', 'felicidade', 65, ['paz', 789]]\n",
      "['Deus', 52.4, 19874, 'Gustavo Gomes', 'anos', 19, 'idade', 'felicidade', 65, ['paz', 789]]\n",
      "['Deus', 19874, 'Gustavo Gomes', 'anos', 19, 'idade', 'felicidade', 65, ['paz', 789]]\n"
     ]
    },
    {
     "data": {
      "text/plain": [
       "['Gustavo Gomes']"
      ]
     },
     "execution_count": 46,
     "metadata": {},
     "output_type": "execute_result"
    }
   ],
   "source": [
    "#Tuplas and Listas\n",
    "\n",
    "# TUPLES imutáveis\n",
    "tupla1 = (1, 2, 3, 4, 5, 6) #exemplo de uma tupla \n",
    "print(tupla1)\n",
    "tupla2 =(\"disco\", 10, 1.3)\n",
    "tupla2[0]\n",
    "tupla3 = tupla2 + (\"Gustavo Gomes\", 1)\n",
    "print(tupla3)\n",
    "len(tupla3)\n",
    "aninhada =(1.2,(\"Gustavo\", \"Gomes\"),(19),(\"anos\")) #uma tupla dentro de outras\n",
    "print(aninhada)\n",
    "aninhada[1]:[1]\n",
    "\n",
    "#LISTS mutáveis \n",
    "lista1 = [\"Gustavo Gomes\", 52.4, 19874, \"Gustavo Gomes\",\"anos\", 19]\n",
    "print(lista1)\n",
    "lista2 = lista1 + [\"idade\"] #concatenando listas\n",
    "print(lista2)\n",
    "lista2.extend([\"felicidade\", 65]) #adicionando elementos com o metodo extend\n",
    "print(lista2)\n",
    "lista2.append([\"paz\", 789]) #anexa mais uma lista invés de elementos\n",
    "print(lista2)\n",
    "lista2[0]= (\"Deus\") #modificando o primeiro elemento da lista\n",
    "print(lista2)\n",
    "del(lista2[1]) #deletando elementos de uma lista\n",
    "print(lista2)\n",
    "lista2[2].split() #o método split converte cada grupo de caracteres separados por um espaço \n"
   ]
  },
  {
   "cell_type": "markdown",
   "metadata": {},
   "source": [
    "## Aula 06"
   ]
  },
  {
   "cell_type": "code",
   "execution_count": 53,
   "metadata": {
    "collapsed": true
   },
   "outputs": [
    {
     "name": "stdout",
     "output_type": "stream",
     "text": [
      "{18, 'Gustavo Gomes', 'anos'}\n",
      "{'Tem', 18, 'Gustavo Gomes', 'anos'}\n",
      "{'Tem', 'Gustavo Gomes', 'anos'}\n",
      "{'anos'}\n"
     ]
    }
   ],
   "source": [
    "#SETS, CONJUNTOS\n",
    "# Transformando uma lista para conjuntos EX: Conjuntos = {dados,... }\n",
    "lista = [\"Gustavo Gomes\", 18, \"anos\"] \n",
    "conjunto = set(lista) #convertendo listas para conjuntos \n",
    "print(conjunto)\n",
    "conjunto.add(\"Tem\") #adicionando elementos no conjunto\n",
    "print(conjunto)\n",
    "conjunto.remove(18) #removendo elementos do conjunto\n",
    "print(conjunto)\n",
    "\"Gustavo Gomes\" in conjunto #verificando se o elemento está no conjunto\n",
    "conjunto1 = {\"João\", 20, \"anos\"}\n",
    "junto = conjunto&conjunto1\n",
    "print(junto)"
   ]
  },
  {
   "cell_type": "markdown",
   "metadata": {},
   "source": [
    "## Aula 07"
   ]
  },
  {
   "cell_type": "code",
   "execution_count": 80,
   "metadata": {
    "collapsed": true
   },
   "outputs": [
    {
     "name": "stdout",
     "output_type": "stream",
     "text": [
      "{'Tarzan': 1988, 'Titanic': 90090}\n",
      "{'Tarzan': 1988, 'Titanic': 90090, 'Carros': '2005'}\n",
      "{'Tarzan': 1988, 'Carros': '2005'}\n"
     ]
    },
    {
     "data": {
      "text/plain": [
       "dict_values([1988, '2005'])"
      ]
     },
     "execution_count": 80,
     "metadata": {},
     "output_type": "execute_result"
    }
   ],
   "source": [
    "#Dictionaries\n",
    "dicionario = {\"Tarzan\": 1988, \"Titanic\": 90090}\n",
    "print(dicionario)\n",
    "dicionario[\"Carros\"]='2005' #adicionando elementos no dicionario\n",
    "print(dicionario)\n",
    "del(dicionario[\"Titanic\"]) #excluindo elementos do dicionario\n",
    "print(dicionario)\n",
    "\"Tarzan\" in dicionario #verificando se o item está no dicionario \n",
    "dicionario.keys() #obtendo os nomes \n",
    "dicionario.values() #obtendo os valores\n"
   ]
  },
  {
   "cell_type": "markdown",
   "metadata": {},
   "source": [
    "## Aula 08"
   ]
  },
  {
   "cell_type": "code",
   "execution_count": 105,
   "metadata": {
    "collapsed": true
   },
   "outputs": [
    {
     "name": "stdout",
     "output_type": "stream",
     "text": [
      "Qual a sua idade? 16\n",
      "Você não poderá ir ao show\n"
     ]
    }
   ],
   "source": [
    "#Condições e Ramificações IF, ELIF, ELSE\n",
    "\"Gustavo\" == \"Gomes\" #igual ==\n",
    "\"Gustavo\"!= \"Gomes\" #diferente !=\n",
    "#operadores lógicos OR == OU coloca dois parametros dentro de um if só\n",
    "#operadores lógicos AND == E  coloca dois parametros dentro de um if só\n",
    "idade = int(input(\"Qual a sua idade? \"))\n",
    "if (idade >= 18):\n",
    "    print(\"Você poderá ir ao show\")\n",
    "elif (idade == 17):\n",
    "    print(\"Você poderá entrar mas não poderá consumir bebidas acoolicas\")\n",
    "else:\n",
    "    print(\"Você não poderá ir ao show\")"
   ]
  },
  {
   "cell_type": "markdown",
   "metadata": {},
   "source": [
    "## Aula 09"
   ]
  },
  {
   "cell_type": "code",
   "execution_count": 12,
   "metadata": {
    "collapsed": true
   },
   "outputs": [
    {
     "name": "stdout",
     "output_type": "stream",
     "text": [
      "1\n",
      "2\n"
     ]
    }
   ],
   "source": [
    "#LOOPS\n",
    "#FOR\n",
    "'''squares = [\"red\", \"yellow\", \"green\", \"purple\", \"blue\"]\n",
    "for i in range(0, 5): #mudando cores de quadrados para branco \n",
    "    squares[i] = \"white\"\n",
    "    print(squares)\n",
    "\n",
    "squares2 = [\"white\", \"black\", \"orange\"]\n",
    "for square in squares2: #colocando um quadrado dentro do outro \n",
    "    print(square)\n",
    "\n",
    "quadrados = [\"vermelho\", \"amarelo\", \"verde\"]\n",
    "for i, quadrado in enumerate(quadrados):\n",
    "    print(quadrado, i) #enumerando cada cor '''\n",
    "\n",
    "#WHILE \n",
    "squares = [\"orange\", \"orange\", \"purple\", \"blue\"]\n",
    "newsquare = []\n",
    "i = 0\n",
    "while (squares[i] == \"orange\"): #contando quantas vezes foi adicionada a cor laranja na nova lista por meio do while\n",
    "    newsquare.append(squares[i])\n",
    "    i = i + 1\n",
    "    print(i)"
   ]
  },
  {
   "cell_type": "markdown",
   "metadata": {},
   "source": [
    "## Aula 10 "
   ]
  },
  {
   "cell_type": "code",
   "execution_count": 10,
   "metadata": {
    "collapsed": true
   },
   "outputs": [
    {
     "name": "stdout",
     "output_type": "stream",
     "text": [
      "Michael Jackson\n",
      "AC/DC\n",
      "Pink Floyd\n"
     ]
    }
   ],
   "source": [
    "#Functions \n",
    "\n",
    "'''listalen = [1, 2, 0.6, 80.9, 85, 700, 9523.85214, 0.5]\n",
    "l = len(listalen) # recebe um lista, cinjuntos, dicionarios e retorna o comprimento da sequencia ou coleção\n",
    "print(l)\n",
    "\n",
    "listasum = [1, 1, 1, 1, 1, 2, 2, 1]\n",
    "s = sum(listasum) # recebe uma lista e soma os elementos\n",
    "print(s)\n",
    "\n",
    "#Os dois metodos ordena listas, conjuntos ou etc \n",
    "\n",
    "listasorted =  [0, 2, 3, 4, 5 , 6, 1]\n",
    "sorted_lista = sorted(listasorted)\n",
    "print(sorted_lista)\n",
    "\n",
    "listasort =  [1, 44, 3, 4, 5 , 6, 7]\n",
    "listasort.sort()\n",
    "print(listasort)'''\n",
    "\n",
    "#Como contruir nossa propria função \n",
    "'''def Nomedoqueafunçãoiráfazer (parametro):\n",
    "    #aqui dentro irá ficar o bloco de tarefas que a função irá realizar\n",
    "    b = parametro + 1 \n",
    "    return b '''\n",
    "\n",
    "'''def add1(a):\n",
    "    b = a + 1 \n",
    "    return b \n",
    "c = add1(a)\n",
    "print(c)\n",
    "d = add1(a)\n",
    "print(d)'''\n",
    "\n",
    "'''def add(a):\n",
    "    \"\"\"\n",
    "    add 1 to a #documentação da função, ou seja o que ela faz \n",
    "    \"\"\"\n",
    "    b = a + 1; \n",
    "    return b \n",
    "    \n",
    "    help(add) #Era para mostra na tela a documentação da função'''\n",
    "\n",
    "'''def nowork ():\n",
    "    pass #Função com corpo vazio \n",
    "print(nowork())\n",
    "\n",
    "stuff= [10.0, 8.5, 9.5]\n",
    "def printStuff(stuff): \n",
    "    for i,s in enumerate(stuff):\n",
    "        print(\"Album\", i, \"Rating is\", s)\n",
    "    album_ratings = [10.0,8.5,9.5]\n",
    "    printstuff(album_ratings)'''\n",
    "\n",
    "def ArtistNames(*names): \n",
    "    for name in names:\n",
    "        print(name)\n",
    "ArtistNames(\"Michael Jackson\", \"AC/DC\", \"Pink Floyd\")\n",
    "    "
   ]
  },
  {
   "cell_type": "markdown",
   "metadata": {},
   "source": [
    "## Aula 11 # Revisar\n"
   ]
  },
  {
   "cell_type": "code",
   "execution_count": 31,
   "metadata": {
    "collapsed": true
   },
   "outputs": [
    {
     "name": "stdout",
     "output_type": "stream",
     "text": [
      "[4, 3, 2, 1]\n"
     ]
    }
   ],
   "source": [
    "#OBJETOS E CLASSES \n",
    "#Tipos de dados em python: Int, float, string, lista[], dicionario {}, conjuntos{}, tupla (), bool \n",
    "type([1, 2, 34]) #([1, 2, 34]) isso é uma estancia \n",
    "type(1) #inteiro \n",
    "type({\"Gustavo\": 1}) #dicionario \n",
    "lista = [1, 2, 3, 4] #classe\n",
    "lista.reverse() #.reverse() / .sort(). Isso tudo são metodos \n",
    "print(lista)\n",
    "\n",
    "#Criando uma propria classe \n",
    "class Circle(object): #radius e color são atributos de dados \n",
    "    \n",
    "    def __init__(self, radius =\"10\", color =\"red\"): #init é um construtor, uma função especial que o python diz que você está construindo\n",
    "        self.radius = radius; #O parâmetro self refere-se a instancia recem criado \n",
    "        self.color = colors;\n",
    "    def add_radius(self, r): #alterando os dados, ou seja o tamanho do circulo\n",
    "        r = 8 \n",
    "        self.radius = self.radius + r\n",
    "        return(self.radius)#Chamando o metodo adiconado, adiconando o argumento da função \n",
    "    \n",
    "    dir(Circle) #Obtem a lista dos atributos de dados e metodos associados a uma class \n",
    "        \n",
    "        "
   ]
  },
  {
   "cell_type": "markdown",
   "metadata": {},
   "source": [
    "## Aula 12 PESQUISAR SOBRE\n"
   ]
  },
  {
   "cell_type": "code",
   "execution_count": 3,
   "metadata": {
    "scrolled": false
   },
   "outputs": [
    {
     "ename": "FileNotFoundError",
     "evalue": "[Errno 2] No such file or directory: '/resources/data/Example1.txt'",
     "output_type": "error",
     "traceback": [
      "\u001b[1;31m---------------------------------------------------------------------------\u001b[0m",
      "\u001b[1;31mFileNotFoundError\u001b[0m                         Traceback (most recent call last)",
      "\u001b[1;32m<ipython-input-3-33af9102a8c2>\u001b[0m in \u001b[0;36m<module>\u001b[1;34m\u001b[0m\n\u001b[0;32m      1\u001b[0m \u001b[1;31m#LENDO ARQUIVOS COM ABERTO\u001b[0m\u001b[1;33m\u001b[0m\u001b[1;33m\u001b[0m\u001b[1;33m\u001b[0m\u001b[0m\n\u001b[1;32m----> 2\u001b[1;33m \u001b[0mfile1\u001b[0m \u001b[1;33m=\u001b[0m \u001b[0mopen\u001b[0m\u001b[1;33m(\u001b[0m\u001b[1;34m\"/resources/data/Example1.txt\"\u001b[0m\u001b[1;33m,\u001b[0m\u001b[1;34m\"w\"\u001b[0m\u001b[1;33m)\u001b[0m\u001b[1;33m\u001b[0m\u001b[1;33m\u001b[0m\u001b[0m\n\u001b[0m\u001b[0;32m      3\u001b[0m \u001b[1;33m\u001b[0m\u001b[0m\n",
      "\u001b[1;31mFileNotFoundError\u001b[0m: [Errno 2] No such file or directory: '/resources/data/Example1.txt'"
     ]
    }
   ],
   "source": [
    "#LENDO ARQUIVOS COM ABERTO\n",
    "file1 = open(\"/resources/data/Example1.txt\",\"w\")\n",
    "\n"
   ]
  },
  {
   "cell_type": "markdown",
   "metadata": {},
   "source": [
    "## Aula 13"
   ]
  },
  {
   "cell_type": "code",
   "execution_count": 18,
   "metadata": {},
   "outputs": [
    {
     "data": {
      "text/html": [
       "<div>\n",
       "<style scoped>\n",
       "    .dataframe tbody tr th:only-of-type {\n",
       "        vertical-align: middle;\n",
       "    }\n",
       "\n",
       "    .dataframe tbody tr th {\n",
       "        vertical-align: top;\n",
       "    }\n",
       "\n",
       "    .dataframe thead th {\n",
       "        text-align: right;\n",
       "    }\n",
       "</style>\n",
       "<table border=\"1\" class=\"dataframe\">\n",
       "  <thead>\n",
       "    <tr style=\"text-align: right;\">\n",
       "      <th></th>\n",
       "      <th>Album</th>\n",
       "      <th>Realesed</th>\n",
       "      <th>Lenght</th>\n",
       "    </tr>\n",
       "  </thead>\n",
       "  <tbody>\n",
       "    <tr>\n",
       "      <th>0</th>\n",
       "      <td>Thuler</td>\n",
       "      <td>1982</td>\n",
       "      <td>00:42:19</td>\n",
       "    </tr>\n",
       "    <tr>\n",
       "      <th>1</th>\n",
       "      <td>Back in black</td>\n",
       "      <td>1980</td>\n",
       "      <td>00:42:11</td>\n",
       "    </tr>\n",
       "    <tr>\n",
       "      <th>2</th>\n",
       "      <td>The dark side of the moon</td>\n",
       "      <td>1973</td>\n",
       "      <td>00:42:49</td>\n",
       "    </tr>\n",
       "    <tr>\n",
       "      <th>3</th>\n",
       "      <td>The Bodyguard</td>\n",
       "      <td>1992</td>\n",
       "      <td>00:57:44</td>\n",
       "    </tr>\n",
       "    <tr>\n",
       "      <th>4</th>\n",
       "      <td>Bat out of hell</td>\n",
       "      <td>1977</td>\n",
       "      <td>00:46:33</td>\n",
       "    </tr>\n",
       "  </tbody>\n",
       "</table>\n",
       "</div>"
      ],
      "text/plain": [
       "                       Album  Realesed    Lenght\n",
       "0                     Thuler      1982  00:42:19\n",
       "1              Back in black      1980  00:42:11\n",
       "2  The dark side of the moon      1973  00:42:49\n",
       "3              The Bodyguard      1992  00:57:44\n",
       "4            Bat out of hell      1977  00:46:33"
      ]
     },
     "execution_count": 18,
     "metadata": {},
     "output_type": "execute_result"
    }
   ],
   "source": [
    "#CARREGANDO DADOS COM PANDAS\n",
    "import pandas as pd \n",
    "songs = ({\"Album\":[\"Thuler\", \"Back in black\", \"The dark side of the moon\", \"The Bodyguard\", \n",
    "        \"Bat out of hell\"], \"Realesed\": [1982,1980,1973,1992,1977], \"Lenght\":[\"00:42:19\", \n",
    "        \"00:42:11\", \"00:42:49\", \"00:57:44\", \"00:46:33\"]})\n",
    "songs_frame = pd.DataFrame(songs)\n",
    "songs_frame.head()\n",
    "\n",
    "'''import pandas as banana\n",
    "\n",
    "df=banana.DataFrame({'a':[11,21,31],'b':[21,22,23]})\n",
    "\n",
    "df.head()'''"
   ]
  },
  {
   "cell_type": "markdown",
   "metadata": {},
   "source": [
    "## Aula 14"
   ]
  },
  {
   "cell_type": "code",
   "execution_count": 21,
   "metadata": {},
   "outputs": [],
   "source": [
    "#TRABALHANDO E SALVANDO DADOS \n"
   ]
  },
  {
   "cell_type": "markdown",
   "metadata": {},
   "source": [
    "## Aula 15 "
   ]
  },
  {
   "cell_type": "markdown",
   "metadata": {},
   "source": [
    "API =  É o contato do que você programa com o servidor de uma biblioteca por exemplo  \n",
    "REAPIS = É o contato do ccliente com o um servidor web por exemplo \n"
   ]
  },
  {
   "cell_type": "markdown",
   "metadata": {},
   "source": [
    "## Aula 16"
   ]
  },
  {
   "cell_type": "code",
   "execution_count": 65,
   "metadata": {},
   "outputs": [
    {
     "data": {
      "text/plain": [
       "[<matplotlib.lines.Line2D at 0x205ae218bb0>]"
      ]
     },
     "execution_count": 65,
     "metadata": {},
     "output_type": "execute_result"
    },
    {
     "data": {
      "image/png": "[encoded data removed]",
      "text/plain": [
       "<Figure size 432x288 with 1 Axes>"
      ]
     },
     "metadata": {
      "needs_background": "light"
     },
     "output_type": "display_data"
    }
   ],
   "source": [
    "#ARRAYS \n",
    "#numpy é uma biblioteca para computação cientifica, também é base para o pandas \n",
    "'''import numpy as np \n",
    "a = np.array([0,1,2,3, 4])\n",
    "type(a)\n",
    "a.dtype\n",
    "a.size #tamanho \n",
    "a.ndim #dimensão da matriz\n",
    "a.shape #o tamanho da array em cada dimensão '''\n",
    "'''import numpy as np \n",
    "b = np.array([3.1,11.02,6.2,213.2,5.2])\n",
    "type(b)\n",
    "b.dtype\n",
    "c = np.array([20,12,30,65])\n",
    "print(c)\n",
    "c[0] = 100  #Alterando os valores da array \n",
    "print(c)\n",
    "c[3] = 0 \n",
    "print(c)\n",
    "d = c[1:4] #fatiando arrays \n",
    "print(d)\n",
    "c[1:3] = 300,400 #adicionando  números em dois lugares\n",
    "print(c)'''\n",
    "'''import numpy as np #gasta menos memoria, util quando se trata de muitos dados\n",
    "u = np.array([1,0]) #somando valores utilizando o numpy \n",
    "v = np.array([0,1])\n",
    "#z = u + v \n",
    "#print(z)\n",
    "z = u - v #subtraindo valores utilizando o numpy \n",
    "print(z) '''\n",
    "\n",
    "import numpy as np \n",
    "'''y = np.array([1,2]) #multiplicando com numpy \n",
    "z = 2 * y \n",
    "print(z)'''\n",
    "'''u = np.array([1,2]) #multiplicando com numpy, multiplicando um vetor com outro  \n",
    "v = np.array([3,2])\n",
    "z = u * v \n",
    "print(z)'''\n",
    "'''u = np.array([1,2,3,-1]) \n",
    "z = u + 1 #somando cada item da lista com + 1 #Isso se chama TRANSMISSÃO \n",
    "print(z) \n",
    "\n",
    "a = np.array([8,8,10,20,500])\n",
    "mean_a = a.mean() #calculando a média de todos os elementos soma / divide pelo total \n",
    "print(mean_a)\n",
    "max_a = a.max() #maior valor da lista\n",
    "print(max_a)\n",
    "\n",
    " \n",
    "x = np.array([0, np.pi/2, np.pi])\n",
    "y = np.sin(x)\n",
    "print(y) #resulta em uma nova matriz que correspomfr a uma função seno '''\n",
    "\n",
    "#PLOTANDO GRAFICOS \n",
    "x = np.linspace(0, 2 * np.pi, 100)\n",
    "y = np.sin(x)\n",
    "\n",
    "import matplotlib.pyplot as plt \n",
    "%matplotlib inline \n",
    "plt.plot(x,y)"
   ]
  },
  {
   "cell_type": "markdown",
   "metadata": {},
   "source": [
    "## Aula 17 "
   ]
  },
  {
   "cell_type": "code",
   "execution_count": 81,
   "metadata": {},
   "outputs": [
    {
     "name": "stdout",
     "output_type": "stream",
     "text": [
      "[[11 12 13]\n",
      " [21 22 23]\n",
      " [31 32 33]]\n"
     ]
    },
    {
     "data": {
      "text/plain": [
       "array([13, 23])"
      ]
     },
     "execution_count": 81,
     "metadata": {},
     "output_type": "execute_result"
    }
   ],
   "source": [
    "#ARRAYS PART 2 \n",
    "import numpy as np \n",
    "a = [[11,12,13],[21,22,23],[31,32,33]]\n",
    "A = np.array(a) #convertendo em um array numpy \n",
    "print(A)\n",
    "A.ndim #número de eixos, números de listas aninhadas \n",
    "A.size #tamanho do array \n",
    "A[0:2, 2] #Acessando intens das matrizes (matrizes == array)\n",
    "\n"
   ]
  },
  {
   "cell_type": "code",
   "execution_count": 87,
   "metadata": {},
   "outputs": [
    {
     "data": {
      "text/plain": [
       "0"
      ]
     },
     "execution_count": 87,
     "metadata": {},
     "output_type": "execute_result"
    }
   ],
   "source": [
    "import numpy as np \n"
   ]
  },
  {
   "cell_type": "code",
   "execution_count": 115,
   "metadata": {},
   "outputs": [
    {
     "name": "stdout",
     "output_type": "stream",
     "text": [
      "x= 2  y= 2\n"
     ]
    }
   ],
   "source": [
    "class Points(object):\n",
    "\n",
    "    def __init__(self,x,y):\n",
    "\n",
    "        self.x=x\n",
    "\n",
    "        self.y=y\n",
    "\n",
    "    def print_point(self):\n",
    "\n",
    "        print('x=',self.x,' y=',self.y)\n",
    "\n",
    "p2=Points(1,2)\n",
    "\n",
    "p2.x=2\n",
    "\n",
    "p2.print_point()\n",
    "\n",
    "\n"
   ]
  },
  {
   "cell_type": "code",
   "execution_count": null,
   "metadata": {},
   "outputs": [],
   "source": []
  }
 ],
 "metadata": {
  "kernelspec": {
   "display_name": "Python 3",
   "language": "python",
   "name": "python3"
  },
  "language_info": {
   "codemirror_mode": {
    "name": "ipython",
    "version": 3
   },
   "file_extension": ".py",
   "mimetype": "text/x-python",
   "name": "python",
   "nbconvert_exporter": "python",
   "pygments_lexer": "ipython3",
   "version": "3.8.5"
  }
 },
 "nbformat": 4,
 "nbformat_minor": 4
}
